{
 "cells": [
  {
   "cell_type": "markdown",
   "metadata": {
    "application/vnd.databricks.v1+cell": {
     "cellMetadata": {},
     "inputWidgets": {},
     "nuid": "2700551c-e115-4ae1-b6c4-9ebac0eb3c6f",
     "showTitle": false,
     "tableResultSettingsMap": {},
     "title": ""
    }
   },
   "source": [
    "# Bronze to silver\n",
    "There needs to be a prior execution of setup once for the mount container and creation of the database with its table.\n",
    "Upserts data from the health_status_updates.csv file from the bronze folder into the silver 'health_data' table. "
   ]
  },
  {
   "cell_type": "markdown",
   "metadata": {
    "application/vnd.databricks.v1+cell": {
     "cellMetadata": {},
     "inputWidgets": {},
     "nuid": "19295427-8e99-4498-9cc0-2c3d54ca1784",
     "showTitle": false,
     "tableResultSettingsMap": {},
     "title": ""
    }
   },
   "source": [
    "## Process the data\n"
   ]
  },
  {
   "cell_type": "code",
   "execution_count": 0,
   "metadata": {
    "application/vnd.databricks.v1+cell": {
     "cellMetadata": {
      "byteLimit": 2048000,
      "rowLimit": 10000
     },
     "inputWidgets": {},
     "nuid": "ee3f9daa-9078-4d37-813a-20e87982696a",
     "showTitle": false,
     "tableResultSettingsMap": {},
     "title": ""
    }
   },
   "outputs": [],
   "source": [
    "from pyspark.sql.types import IntegerType, StringType, DoubleType, StructField, StructType\n",
    "\n",
    "mount_point = '/mnt/health-updates'\n",
    "health_data_path = f\"{mount_point}/bronze/health_status_updates.csv\"\n",
    "\n",
    "health_data_schema = StructType([\n",
    "                    StructField(\"STATUS_UPDATE_ID\", IntegerType(), False),\n",
    "                    StructField(\"PATIENT_ID\", IntegerType(), False),\n",
    "                    StructField(\"DATE_PROVIDED\", StringType(), False),\n",
    "                    StructField(\"FEELING_TODAY\", StringType(), True),\n",
    "                    StructField(\"IMPACT\", StringType(), True),\n",
    "                    StructField(\"INJECTION_SITE_SYMPTOMS\", StringType(), True),\n",
    "                    StructField(\"HIGHEST_TEMP\", DoubleType(), True),\n",
    "                    StructField(\"FEVERISH_TODAY\", StringType(), True),\n",
    "                    StructField(\"GENERAL_SYMPTOMS\", StringType(), True),\n",
    "                    StructField(\"HEALTHCARE_VISIT\", StringType(), True)\n",
    "                    ]\n",
    "                    )\n",
    "\n",
    "health_data = spark.read.csv(path = health_data_path, header=True, schema=health_data_schema)"
   ]
  },
  {
   "cell_type": "code",
   "execution_count": 0,
   "metadata": {
    "application/vnd.databricks.v1+cell": {
     "cellMetadata": {
      "byteLimit": 2048000,
      "rowLimit": 10000
     },
     "inputWidgets": {},
     "nuid": "f297cf11-7ae8-429e-b528-b7015d53b064",
     "showTitle": false,
     "tableResultSettingsMap": {},
     "title": ""
    }
   },
   "outputs": [],
   "source": [
    "from pyspark.sql.functions import to_date, current_timestamp\n",
    "health_data = health_data.select(\n",
    "                                'STATUS_UPDATE_ID',\n",
    "                                'PATIENT_ID',\n",
    "                                to_date(health_data['DATE_PROVIDED'],'MM/dd/yyyy').alias('DATE_PROVIDED'),\n",
    "                                'FEELING_TODAY',\n",
    "                                'IMPACT',\n",
    "                                'INJECTION_SITE_SYMPTOMS',\n",
    "                                'HIGHEST_TEMP',\n",
    "                                'FEVERISH_TODAY',\n",
    "                                'GENERAL_SYMPTOMS',\n",
    "                                'HEALTHCARE_VISIT',\n",
    "                                current_timestamp().alias(\"UPDATED_TIMESTAMP\")\n",
    "                            )"
   ]
  },
  {
   "cell_type": "markdown",
   "metadata": {
    "application/vnd.databricks.v1+cell": {
     "cellMetadata": {},
     "inputWidgets": {},
     "nuid": "248d1a51-dd79-4ca4-8f8c-7c543bff4158",
     "showTitle": false,
     "tableResultSettingsMap": {},
     "title": ""
    }
   },
   "source": [
    "## Merging into the table"
   ]
  },
  {
   "cell_type": "code",
   "execution_count": 0,
   "metadata": {
    "application/vnd.databricks.v1+cell": {
     "cellMetadata": {
      "byteLimit": 2048000,
      "rowLimit": 10000
     },
     "inputWidgets": {},
     "nuid": "32d8a43f-18c2-49a7-920b-4674bc46fbb3",
     "showTitle": false,
     "tableResultSettingsMap": {},
     "title": ""
    }
   },
   "outputs": [],
   "source": [
    "# upsert into health_data table\n",
    "from pyspark.sql.functions import current_timestamp\n",
    "from delta.tables import DeltaTable\n",
    "\n",
    "deltaTable = DeltaTable.forPath(spark, '/mnt/health-updates/silver/health_data')\n",
    "\n",
    "deltaTable.alias('tgt') \\\n",
    "  .merge(\n",
    "    health_data.alias('src'),\n",
    "    'tgt.status_update_id = src.status_update_id'\n",
    "  ) \\\n",
    "  .whenMatchedUpdate(set =\n",
    "    {\n",
    "      \"status_update_id\": \"src.status_update_id\",\n",
    "      \"patient_id\": \"src.patient_id\",\n",
    "      \"date_provided\": \"src.date_provided\",\n",
    "      \"feeling_today\": \"src.feeling_today\",\n",
    "      \"impact\": \"src.impact\",\n",
    "      \"injection_site_symptoms\": \"src.injection_site_symptoms\",\n",
    "      \"highest_temp\": \"src.highest_temp\",\n",
    "      \"feverish_today\": \"src.feverish_today\",\n",
    "      \"general_symptoms\": \"src.general_symptoms\",\n",
    "      \"healthcare_visit\": \"src.healthcare_visit\",\n",
    "      \"updated_timestamp\": current_timestamp()\n",
    "    }\n",
    "  ) \\\n",
    "  .whenNotMatchedInsert(values =\n",
    "    {\n",
    "      \"status_update_id\": \"src.status_update_id\",\n",
    "      \"patient_id\": \"src.patient_id\",\n",
    "      \"date_provided\": \"src.date_provided\",\n",
    "      \"feeling_today\": \"src.feeling_today\",\n",
    "      \"impact\": \"src.impact\",\n",
    "      \"injection_site_symptoms\": \"src.injection_site_symptoms\",\n",
    "      \"highest_temp\": \"src.highest_temp\",\n",
    "      \"feverish_today\": \"src.feverish_today\",\n",
    "      \"general_symptoms\": \"src.general_symptoms\",\n",
    "      \"healthcare_visit\": \"src.healthcare_visit\",\n",
    "      \"updated_timestamp\": current_timestamp()\n",
    "    }\n",
    "  ) \\\n",
    "  .execute()"
   ]
  },
  {
   "cell_type": "code",
   "execution_count": 0,
   "metadata": {
    "application/vnd.databricks.v1+cell": {
     "cellMetadata": {},
     "inputWidgets": {},
     "nuid": "c9e02de6-4666-479a-bfaa-4aafe2932d5a",
     "showTitle": false,
     "tableResultSettingsMap": {},
     "title": ""
    }
   },
   "outputs": [],
   "source": [
    "dbutils.notebook.exit('Bronze to silver complete')"
   ]
  }
 ],
 "metadata": {
  "application/vnd.databricks.v1+notebook": {
   "computePreferences": null,
   "dashboards": [],
   "environmentMetadata": {
    "base_environment": "",
    "environment_version": "2"
   },
   "inputWidgetPreferences": null,
   "language": "python",
   "notebookMetadata": {
    "mostRecentlyExecutedCommandWithImplicitDF": {
     "commandId": 5483565796418825,
     "dataframes": [
      "_sqldf"
     ]
    },
    "pythonIndentUnit": 4
   },
   "notebookName": "1_bronze_to_silver",
   "widgets": {}
  },
  "language_info": {
   "name": "python"
  }
 },
 "nbformat": 4,
 "nbformat_minor": 0
}
